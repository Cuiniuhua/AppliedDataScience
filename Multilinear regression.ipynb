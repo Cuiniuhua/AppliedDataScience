{
 "cells": [
  {
   "cell_type": "code",
   "execution_count": 2,
   "metadata": {
    "collapsed": false
   },
   "outputs": [
    {
     "data": {
      "text/plain": [
       "numpy.core.machar.MachAr"
      ]
     },
     "execution_count": 2,
     "metadata": {},
     "output_type": "execute_result"
    }
   ],
   "source": [
    "import scipy\n",
    "scipy.MachAr"
   ]
  },
  {
   "cell_type": "markdown",
   "metadata": {},
   "source": [
    "# Homework 02 --- Session 3, Multilinear regression"
   ]
  },
  {
   "cell_type": "markdown",
   "metadata": {
    "collapsed": true
   },
   "source": [
    "## EX 1 Artificial data (25pt -- 5+5+5+10)\n",
    "### Dataset 'https://serv.cusp.nyu.edu/~cq299/ADS2016/Data/H31.csv'\n",
    "### Tasks:\n",
    "Consider a multivariate regression of the output variable $y$ over the 3 regressors $x_1$, $x_2$, $x_3$ as follows.\n",
    "* (a) Which one of the regressors serves as dummy variable corresponding to an intercept term?\n",
    "    * Ignore the first column since it's just a duplicate index (You can avoid it by running **ex1 = pd.read_csv('https://serv.cusp.nyu.edu/~cq299/ADS2016/Data/H31.csv', index_col=0)** )\n",
    "* (b) Calculate the coefficients $\\hat w$ manually or with python *numpy* module by using matrix computation.\n",
    "* (c) Verify your answer by implementing the OLS regression function with python *statsmodels* module.\n",
    "* (d) Visualize the data points and your fitted model in a 3D plot, like we did in the lab session."
   ]
  },
  {
   "cell_type": "markdown",
   "metadata": {},
   "source": [
    "#### Open the file."
   ]
  },
  {
   "cell_type": "code",
   "execution_count": 2,
   "metadata": {
    "collapsed": false
   },
   "outputs": [
    {
     "name": "stdout",
     "output_type": "stream",
     "text": [
      "Populating the interactive namespace from numpy and matplotlib\n"
     ]
    }
   ],
   "source": [
    "import numpy as np\n",
    "import matplotlib.pyplot as plt\n",
    "%pylab inline\n",
    "import pandas as pd\n",
    "import statsmodels.formula.api as smf \n",
    "from mpl_toolkits.mplot3d import Axes3D"
   ]
  },
  {
   "cell_type": "code",
   "execution_count": 3,
   "metadata": {
    "collapsed": false
   },
   "outputs": [
    {
     "data": {
      "text/html": [
       "<div>\n",
       "<table border=\"1\" class=\"dataframe\">\n",
       "  <thead>\n",
       "    <tr style=\"text-align: right;\">\n",
       "      <th></th>\n",
       "      <th>y</th>\n",
       "      <th>x1</th>\n",
       "      <th>x2</th>\n",
       "      <th>x3</th>\n",
       "    </tr>\n",
       "  </thead>\n",
       "  <tbody>\n",
       "    <tr>\n",
       "      <th>1</th>\n",
       "      <td>0</td>\n",
       "      <td>1</td>\n",
       "      <td>-2</td>\n",
       "      <td>1</td>\n",
       "    </tr>\n",
       "    <tr>\n",
       "      <th>2</th>\n",
       "      <td>2</td>\n",
       "      <td>1</td>\n",
       "      <td>-1</td>\n",
       "      <td>-1</td>\n",
       "    </tr>\n",
       "    <tr>\n",
       "      <th>3</th>\n",
       "      <td>2</td>\n",
       "      <td>1</td>\n",
       "      <td>0</td>\n",
       "      <td>0</td>\n",
       "    </tr>\n",
       "    <tr>\n",
       "      <th>4</th>\n",
       "      <td>3</td>\n",
       "      <td>1</td>\n",
       "      <td>1</td>\n",
       "      <td>-1</td>\n",
       "    </tr>\n",
       "    <tr>\n",
       "      <th>5</th>\n",
       "      <td>3</td>\n",
       "      <td>1</td>\n",
       "      <td>2</td>\n",
       "      <td>1</td>\n",
       "    </tr>\n",
       "  </tbody>\n",
       "</table>\n",
       "</div>"
      ],
      "text/plain": [
       "   y  x1  x2  x3\n",
       "1  0   1  -2   1\n",
       "2  2   1  -1  -1\n",
       "3  2   1   0   0\n",
       "4  3   1   1  -1\n",
       "5  3   1   2   1"
      ]
     },
     "execution_count": 3,
     "metadata": {},
     "output_type": "execute_result"
    }
   ],
   "source": [
    "ex1 = pd.read_csv('https://serv.cusp.nyu.edu/~cq299/ADS2016/Data/H31.csv', index_col=0)\n",
    "ex1"
   ]
  },
  {
   "cell_type": "markdown",
   "metadata": {},
   "source": [
    "#### (a) X1 serives as the dummy variable\n"
   ]
  },
  {
   "cell_type": "markdown",
   "metadata": {},
   "source": [
    "#### (b) Calculate the coefficients  ŵ with python numpy module by using matrix computation"
   ]
  },
  {
   "cell_type": "code",
   "execution_count": 4,
   "metadata": {
    "collapsed": false
   },
   "outputs": [
    {
     "name": "stdout",
     "output_type": "stream",
     "text": [
      "[[ 2. ]\n",
      " [ 0.7]\n",
      " [-0.5]]\n"
     ]
    }
   ],
   "source": [
    "X1 = np.matrix(ex1.loc[:,['x1','x2','x3']])\n",
    "Y1 = np.matrix(ex1.y).T\n",
    "w1 = (X1.T * X1).I * X1.T * Y1\n",
    "print(w1)"
   ]
  },
  {
   "cell_type": "markdown",
   "metadata": {},
   "source": [
    "#### (c) Verify your answer by implementing the OLS regression function with python statsmodels module."
   ]
  },
  {
   "cell_type": "code",
   "execution_count": 5,
   "metadata": {
    "collapsed": false
   },
   "outputs": [
    {
     "name": "stdout",
     "output_type": "stream",
     "text": [
      "Intercept    2.0\n",
      "x2           0.7\n",
      "x3          -0.5\n",
      "dtype: float64\n"
     ]
    }
   ],
   "source": [
    "lm1 = smf.ols(formula = 'y ~ x2 + x3', data = ex1).fit()\n",
    "print(lm1.params)"
   ]
  },
  {
   "cell_type": "markdown",
   "metadata": {},
   "source": [
    "#### (d) Visualize the data points and your fitted model in a 3D plot, like we did in the lab session."
   ]
  },
  {
   "cell_type": "code",
   "execution_count": 6,
   "metadata": {
    "collapsed": false
   },
   "outputs": [
    {
     "data": {
      "text/plain": [
       "<mpl_toolkits.mplot3d.art3d.Poly3DCollection at 0x11a816910>"
      ]
     },
     "execution_count": 6,
     "metadata": {},
     "output_type": "execute_result"
    },
    {
     "data": {
      "image/png": "[encoded data removed]",
      "text/plain": [
       "<matplotlib.figure.Figure at 0x1177a0bd0>"
      ]
     },
     "metadata": {},
     "output_type": "display_data"
    }
   ],
   "source": [
    "fig = plt.figure(figsize = (12,10))  # Create a plot with customized figure size (width, height)\n",
    "ax = fig.gca(projection='3d')  # Extract the axis for further operations\n",
    "ax.scatter(ex1.x2, ex1.x3, ex1.y, s = 100,  c = 'r')\n",
    "#plt.show\n",
    "# Scatter plot, \"c\" stands for color, and \"s\" determines the marker size\n",
    "\n",
    "# # Generate coordinates for hyperplane\n",
    "radius = 5\n",
    "x1_1, x1_2 = np.meshgrid(range(-radius,radius), range(-radius,radius))\n",
    "fit_y1 = lm1.params[0] + lm1.params[1] * x1_1 + lm1.params[2] * x1_2\n",
    "\n",
    "# alpha (between 0 and 1) controls the transparency with 0 being totally transparent\n",
    "ax.plot_surface(x1_1, x1_2, fit_y1, color='c', alpha = 0.4)\n",
    "# Set labels and fontsize\n",
    "#"
   ]
  },
  {
   "cell_type": "markdown",
   "metadata": {},
   "source": [
    "## EX 2, Income vs Insurance coverage (35+10pt -- 10+10+5+10+10)\n",
    "### Dataset 'https://serv.cusp.nyu.edu/~cq299/ADS2016/Data/IncomeInsReg.csv'\n",
    "You are given the demographic data of insurance coverage in NYC, with the details:\n",
    "* Zip code\n",
    "* Total population (for each zip code)\n",
    "* Population with No Insurance coverage\n",
    "* Population with Insurance coverage\n",
    "    * Population with Public Insurance coverage\n",
    "    * Population with Private Insurance coverage\n",
    "\n",
    "### Tasks:\n",
    "* (a) Verify that there are some people with BOTH public insurance and private insurance according to this data set, then create a new column containing such information\n",
    "* (b) Modify the old data frame, or simply create a new one, such that this data frame contains (including but not limited to) the following information in each zipcode area:\n",
    "    * IncomePerCapita\n",
    "    * Total Population\n",
    "    * Population with NO Insurance coverage\n",
    "    * Population with Public Insurance coverage ONLY\n",
    "    * Population with Private Insurance coverage ONLY\n",
    "    * Population with BOTH types of Insurance coverage\n",
    "* (c) Similar to the lab example, drop the parts with NaN(if any), convert all population number into proportion (percentage, with the form 58.3 instead of 0.583)\n",
    "* (d) Regress over these proportions (the ones mentioned in part b, leave out \"No Insurance Coverage\") -- What interesting results do we have here? Briefly state what you've obtained.\n",
    "#### Extra credit:\n",
    "* (e) Visualize the observed income versus the predicted income, like what we did in the lab session. Does this fitted line look great or not? If you're not sure, check the correlation matrix and make a guess."
   ]
  },
  {
   "cell_type": "markdown",
   "metadata": {},
   "source": [
    "#### (a) Verify that there are some people with BOTH public insurance and private insurance according to this data set, then create a new column containing such information"
   ]
  },
  {
   "cell_type": "code",
   "execution_count": 17,
   "metadata": {
    "collapsed": false
   },
   "outputs": [
    {
     "data": {
      "text/html": [
       "<div>\n",
       "<table border=\"1\" class=\"dataframe\">\n",
       "  <thead>\n",
       "    <tr style=\"text-align: right;\">\n",
       "      <th></th>\n",
       "      <th>Zipcode</th>\n",
       "      <th>IncomePerCapita</th>\n",
       "      <th>TotalPop</th>\n",
       "      <th>NoCoverage</th>\n",
       "      <th>WithCoverage</th>\n",
       "      <th>Public</th>\n",
       "      <th>Private</th>\n",
       "    </tr>\n",
       "  </thead>\n",
       "  <tbody>\n",
       "    <tr>\n",
       "      <th>0</th>\n",
       "      <td>10001</td>\n",
       "      <td>77512.0</td>\n",
       "      <td>22767</td>\n",
       "      <td>1958</td>\n",
       "      <td>20809</td>\n",
       "      <td>5800</td>\n",
       "      <td>16795</td>\n",
       "    </tr>\n",
       "    <tr>\n",
       "      <th>1</th>\n",
       "      <td>10002</td>\n",
       "      <td>26905.0</td>\n",
       "      <td>79490</td>\n",
       "      <td>9129</td>\n",
       "      <td>70361</td>\n",
       "      <td>40139</td>\n",
       "      <td>35167</td>\n",
       "    </tr>\n",
       "    <tr>\n",
       "      <th>2</th>\n",
       "      <td>10003</td>\n",
       "      <td>79088.0</td>\n",
       "      <td>56909</td>\n",
       "      <td>3774</td>\n",
       "      <td>53135</td>\n",
       "      <td>8593</td>\n",
       "      <td>48522</td>\n",
       "    </tr>\n",
       "    <tr>\n",
       "      <th>3</th>\n",
       "      <td>10004</td>\n",
       "      <td>98020.0</td>\n",
       "      <td>3024</td>\n",
       "      <td>244</td>\n",
       "      <td>2780</td>\n",
       "      <td>180</td>\n",
       "      <td>2705</td>\n",
       "    </tr>\n",
       "    <tr>\n",
       "      <th>4</th>\n",
       "      <td>10005</td>\n",
       "      <td>99633.0</td>\n",
       "      <td>7566</td>\n",
       "      <td>570</td>\n",
       "      <td>6996</td>\n",
       "      <td>122</td>\n",
       "      <td>6944</td>\n",
       "    </tr>\n",
       "  </tbody>\n",
       "</table>\n",
       "</div>"
      ],
      "text/plain": [
       "   Zipcode  IncomePerCapita  TotalPop  NoCoverage  WithCoverage  Public  \\\n",
       "0    10001          77512.0     22767        1958         20809    5800   \n",
       "1    10002          26905.0     79490        9129         70361   40139   \n",
       "2    10003          79088.0     56909        3774         53135    8593   \n",
       "3    10004          98020.0      3024         244          2780     180   \n",
       "4    10005          99633.0      7566         570          6996     122   \n",
       "\n",
       "   Private  \n",
       "0    16795  \n",
       "1    35167  \n",
       "2    48522  \n",
       "3     2705  \n",
       "4     6944  "
      ]
     },
     "execution_count": 17,
     "metadata": {},
     "output_type": "execute_result"
    }
   ],
   "source": [
    "ex2=pd.read_csv('https://serv.cusp.nyu.edu/~cq299/ADS2016/Data/IncomeInsReg.csv')\n",
    "ex2.head()"
   ]
  },
  {
   "cell_type": "code",
   "execution_count": 18,
   "metadata": {
    "collapsed": false,
    "scrolled": true
   },
   "outputs": [
    {
     "data": {
      "text/html": [
       "<div>\n",
       "<table border=\"1\" class=\"dataframe\">\n",
       "  <thead>\n",
       "    <tr style=\"text-align: right;\">\n",
       "      <th></th>\n",
       "      <th>Zipcode</th>\n",
       "      <th>IncomePerCapita</th>\n",
       "      <th>TotalPop</th>\n",
       "      <th>NoCoverage</th>\n",
       "      <th>WithCoverage</th>\n",
       "      <th>Public</th>\n",
       "      <th>Private</th>\n",
       "    </tr>\n",
       "  </thead>\n",
       "  <tbody>\n",
       "    <tr>\n",
       "      <th>0</th>\n",
       "      <td>10001</td>\n",
       "      <td>77512.0</td>\n",
       "      <td>22767</td>\n",
       "      <td>1958</td>\n",
       "      <td>20809</td>\n",
       "      <td>5800</td>\n",
       "      <td>16795</td>\n",
       "    </tr>\n",
       "    <tr>\n",
       "      <th>1</th>\n",
       "      <td>10002</td>\n",
       "      <td>26905.0</td>\n",
       "      <td>79490</td>\n",
       "      <td>9129</td>\n",
       "      <td>70361</td>\n",
       "      <td>40139</td>\n",
       "      <td>35167</td>\n",
       "    </tr>\n",
       "    <tr>\n",
       "      <th>2</th>\n",
       "      <td>10003</td>\n",
       "      <td>79088.0</td>\n",
       "      <td>56909</td>\n",
       "      <td>3774</td>\n",
       "      <td>53135</td>\n",
       "      <td>8593</td>\n",
       "      <td>48522</td>\n",
       "    </tr>\n",
       "    <tr>\n",
       "      <th>3</th>\n",
       "      <td>10004</td>\n",
       "      <td>98020.0</td>\n",
       "      <td>3024</td>\n",
       "      <td>244</td>\n",
       "      <td>2780</td>\n",
       "      <td>180</td>\n",
       "      <td>2705</td>\n",
       "    </tr>\n",
       "    <tr>\n",
       "      <th>4</th>\n",
       "      <td>10005</td>\n",
       "      <td>99633.0</td>\n",
       "      <td>7566</td>\n",
       "      <td>570</td>\n",
       "      <td>6996</td>\n",
       "      <td>122</td>\n",
       "      <td>6944</td>\n",
       "    </tr>\n",
       "  </tbody>\n",
       "</table>\n",
       "</div>"
      ],
      "text/plain": [
       "   Zipcode  IncomePerCapita  TotalPop  NoCoverage  WithCoverage  Public  \\\n",
       "0    10001          77512.0     22767        1958         20809    5800   \n",
       "1    10002          26905.0     79490        9129         70361   40139   \n",
       "2    10003          79088.0     56909        3774         53135    8593   \n",
       "3    10004          98020.0      3024         244          2780     180   \n",
       "4    10005          99633.0      7566         570          6996     122   \n",
       "\n",
       "   Private  \n",
       "0    16795  \n",
       "1    35167  \n",
       "2    48522  \n",
       "3     2705  \n",
       "4     6944  "
      ]
     },
     "execution_count": 18,
     "metadata": {},
     "output_type": "execute_result"
    }
   ],
   "source": [
    "#del ex2['BothInsu']\n",
    "#type(ex2['Public'][1])\n",
    "#ex2.loc[:,\"BothInsu\"]=0\n",
    "ex2.head()"
   ]
  },
  {
   "cell_type": "code",
   "execution_count": 19,
   "metadata": {
    "collapsed": false
   },
   "outputs": [
    {
     "name": "stderr",
     "output_type": "stream",
     "text": [
      "/Users/cuichenxi/anaconda/lib/python2.7/site-packages/ipykernel/__main__.py:4: SettingWithCopyWarning: \n",
      "A value is trying to be set on a copy of a slice from a DataFrame\n",
      "\n",
      "See the caveats in the documentation: http://pandas.pydata.org/pandas-docs/stable/indexing.html#indexing-view-versus-copy\n"
     ]
    },
    {
     "data": {
      "text/html": [
       "<div>\n",
       "<table border=\"1\" class=\"dataframe\">\n",
       "  <thead>\n",
       "    <tr style=\"text-align: right;\">\n",
       "      <th></th>\n",
       "      <th>Zipcode</th>\n",
       "      <th>IncomePerCapita</th>\n",
       "      <th>TotalPop</th>\n",
       "      <th>NoCoverage</th>\n",
       "      <th>WithCoverage</th>\n",
       "      <th>Public</th>\n",
       "      <th>Private</th>\n",
       "      <th>BothInsu</th>\n",
       "    </tr>\n",
       "  </thead>\n",
       "  <tbody>\n",
       "    <tr>\n",
       "      <th>0</th>\n",
       "      <td>10001</td>\n",
       "      <td>77512.0</td>\n",
       "      <td>22767</td>\n",
       "      <td>1958</td>\n",
       "      <td>20809</td>\n",
       "      <td>5800</td>\n",
       "      <td>16795</td>\n",
       "      <td>1786</td>\n",
       "    </tr>\n",
       "    <tr>\n",
       "      <th>1</th>\n",
       "      <td>10002</td>\n",
       "      <td>26905.0</td>\n",
       "      <td>79490</td>\n",
       "      <td>9129</td>\n",
       "      <td>70361</td>\n",
       "      <td>40139</td>\n",
       "      <td>35167</td>\n",
       "      <td>4945</td>\n",
       "    </tr>\n",
       "    <tr>\n",
       "      <th>2</th>\n",
       "      <td>10003</td>\n",
       "      <td>79088.0</td>\n",
       "      <td>56909</td>\n",
       "      <td>3774</td>\n",
       "      <td>53135</td>\n",
       "      <td>8593</td>\n",
       "      <td>48522</td>\n",
       "      <td>3980</td>\n",
       "    </tr>\n",
       "    <tr>\n",
       "      <th>3</th>\n",
       "      <td>10004</td>\n",
       "      <td>98020.0</td>\n",
       "      <td>3024</td>\n",
       "      <td>244</td>\n",
       "      <td>2780</td>\n",
       "      <td>180</td>\n",
       "      <td>2705</td>\n",
       "      <td>105</td>\n",
       "    </tr>\n",
       "    <tr>\n",
       "      <th>4</th>\n",
       "      <td>10005</td>\n",
       "      <td>99633.0</td>\n",
       "      <td>7566</td>\n",
       "      <td>570</td>\n",
       "      <td>6996</td>\n",
       "      <td>122</td>\n",
       "      <td>6944</td>\n",
       "      <td>70</td>\n",
       "    </tr>\n",
       "  </tbody>\n",
       "</table>\n",
       "</div>"
      ],
      "text/plain": [
       "   Zipcode  IncomePerCapita  TotalPop  NoCoverage  WithCoverage  Public  \\\n",
       "0    10001          77512.0     22767        1958         20809    5800   \n",
       "1    10002          26905.0     79490        9129         70361   40139   \n",
       "2    10003          79088.0     56909        3774         53135    8593   \n",
       "3    10004          98020.0      3024         244          2780     180   \n",
       "4    10005          99633.0      7566         570          6996     122   \n",
       "\n",
       "   Private  BothInsu  \n",
       "0    16795      1786  \n",
       "1    35167      4945  \n",
       "2    48522      3980  \n",
       "3     2705       105  \n",
       "4     6944        70  "
      ]
     },
     "execution_count": 19,
     "metadata": {},
     "output_type": "execute_result"
    }
   ],
   "source": [
    "ex2.loc[:,'BothInsu']=0\n",
    "for i in range (len(ex2.Zipcode)):\n",
    "    if  ex2['Public'][i] + ex2['Private'][i] - ex2['WithCoverage'][i] > 0:\n",
    "        ex2['BothInsu'][i]=ex2['Public'][i] + ex2['Private'][i] - ex2['WithCoverage'][i]\n",
    "        #ex2['Public'][i]=ex2['Public'][i]-ex2['BothInsu'][i]\n",
    "        #ex2['Private'][i]=ex2['Private'][i]-ex2['BothInsu'][i]\n",
    "ex2.head()"
   ]
  },
  {
   "cell_type": "markdown",
   "metadata": {},
   "source": [
    "#### (b) Modify the old data frame, or simply create a new one, such that this data frame contains (including but not limited to) the following information in each zipcode area:\n",
    "IncomePerCapita\n",
    "Total Population\n",
    "Population with NO Insurance coverage\n",
    "Population with Public Insurance coverage ONLY\n",
    "Population with Private Insurance coverage ONLY\n",
    "Population with BOTH types of Insurance coverage"
   ]
  },
  {
   "cell_type": "code",
   "execution_count": 20,
   "metadata": {
    "collapsed": false
   },
   "outputs": [
    {
     "name": "stderr",
     "output_type": "stream",
     "text": [
      "/Users/cuichenxi/anaconda/lib/python2.7/site-packages/ipykernel/__main__.py:3: SettingWithCopyWarning: \n",
      "A value is trying to be set on a copy of a slice from a DataFrame\n",
      "\n",
      "See the caveats in the documentation: http://pandas.pydata.org/pandas-docs/stable/indexing.html#indexing-view-versus-copy\n",
      "  app.launch_new_instance()\n",
      "/Users/cuichenxi/anaconda/lib/python2.7/site-packages/ipykernel/__main__.py:4: SettingWithCopyWarning: \n",
      "A value is trying to be set on a copy of a slice from a DataFrame\n",
      "\n",
      "See the caveats in the documentation: http://pandas.pydata.org/pandas-docs/stable/indexing.html#indexing-view-versus-copy\n"
     ]
    },
    {
     "data": {
      "text/html": [
       "<div>\n",
       "<table border=\"1\" class=\"dataframe\">\n",
       "  <thead>\n",
       "    <tr style=\"text-align: right;\">\n",
       "      <th></th>\n",
       "      <th>Zipcode</th>\n",
       "      <th>IncomePerCapita</th>\n",
       "      <th>TotalPop</th>\n",
       "      <th>NoCoverage</th>\n",
       "      <th>WithCoverage</th>\n",
       "      <th>Public</th>\n",
       "      <th>Private</th>\n",
       "      <th>BothInsu</th>\n",
       "    </tr>\n",
       "  </thead>\n",
       "  <tbody>\n",
       "    <tr>\n",
       "      <th>0</th>\n",
       "      <td>10001</td>\n",
       "      <td>77512.0</td>\n",
       "      <td>22767</td>\n",
       "      <td>1958</td>\n",
       "      <td>20809</td>\n",
       "      <td>4014</td>\n",
       "      <td>15009</td>\n",
       "      <td>1786</td>\n",
       "    </tr>\n",
       "    <tr>\n",
       "      <th>1</th>\n",
       "      <td>10002</td>\n",
       "      <td>26905.0</td>\n",
       "      <td>79490</td>\n",
       "      <td>9129</td>\n",
       "      <td>70361</td>\n",
       "      <td>35194</td>\n",
       "      <td>30222</td>\n",
       "      <td>4945</td>\n",
       "    </tr>\n",
       "    <tr>\n",
       "      <th>2</th>\n",
       "      <td>10003</td>\n",
       "      <td>79088.0</td>\n",
       "      <td>56909</td>\n",
       "      <td>3774</td>\n",
       "      <td>53135</td>\n",
       "      <td>4613</td>\n",
       "      <td>44542</td>\n",
       "      <td>3980</td>\n",
       "    </tr>\n",
       "    <tr>\n",
       "      <th>3</th>\n",
       "      <td>10004</td>\n",
       "      <td>98020.0</td>\n",
       "      <td>3024</td>\n",
       "      <td>244</td>\n",
       "      <td>2780</td>\n",
       "      <td>75</td>\n",
       "      <td>2600</td>\n",
       "      <td>105</td>\n",
       "    </tr>\n",
       "    <tr>\n",
       "      <th>4</th>\n",
       "      <td>10005</td>\n",
       "      <td>99633.0</td>\n",
       "      <td>7566</td>\n",
       "      <td>570</td>\n",
       "      <td>6996</td>\n",
       "      <td>52</td>\n",
       "      <td>6874</td>\n",
       "      <td>70</td>\n",
       "    </tr>\n",
       "  </tbody>\n",
       "</table>\n",
       "</div>"
      ],
      "text/plain": [
       "   Zipcode  IncomePerCapita  TotalPop  NoCoverage  WithCoverage  Public  \\\n",
       "0    10001          77512.0     22767        1958         20809    4014   \n",
       "1    10002          26905.0     79490        9129         70361   35194   \n",
       "2    10003          79088.0     56909        3774         53135    4613   \n",
       "3    10004          98020.0      3024         244          2780      75   \n",
       "4    10005          99633.0      7566         570          6996      52   \n",
       "\n",
       "   Private  BothInsu  \n",
       "0    15009      1786  \n",
       "1    30222      4945  \n",
       "2    44542      3980  \n",
       "3     2600       105  \n",
       "4     6874        70  "
      ]
     },
     "execution_count": 20,
     "metadata": {},
     "output_type": "execute_result"
    }
   ],
   "source": [
    "data2=ex2\n",
    "for i in range (len(data2.Zipcode)):\n",
    "        ex2['Public'][i]=ex2['Public'][i]-ex2['BothInsu'][i]\n",
    "        ex2['Private'][i]=ex2['Private'][i]-ex2['BothInsu'][i]\n",
    "ex2.head()\n",
    "#del data2['WithCoverage']\n",
    "data2.head()"
   ]
  },
  {
   "cell_type": "markdown",
   "metadata": {},
   "source": [
    "#### (c) Similar to the lab example, drop the parts with NaN(if any), convert all population number into proportion (percentage, with the form 58.3 instead of 0.583)"
   ]
  },
  {
   "cell_type": "code",
   "execution_count": 12,
   "metadata": {
    "collapsed": false
   },
   "outputs": [
    {
     "data": {
      "text/html": [
       "<div>\n",
       "<table border=\"1\" class=\"dataframe\">\n",
       "  <thead>\n",
       "    <tr style=\"text-align: right;\">\n",
       "      <th></th>\n",
       "      <th>Zipcode</th>\n",
       "      <th>IncomePerCapita</th>\n",
       "      <th>TotalPop</th>\n",
       "      <th>NoCoverage</th>\n",
       "      <th>WithCoverage</th>\n",
       "      <th>Public</th>\n",
       "      <th>Private</th>\n",
       "      <th>BothInsu</th>\n",
       "    </tr>\n",
       "  </thead>\n",
       "  <tbody>\n",
       "    <tr>\n",
       "      <th>0</th>\n",
       "      <td>10001</td>\n",
       "      <td>77512.0</td>\n",
       "      <td>22767</td>\n",
       "      <td>0.037775</td>\n",
       "      <td>20809</td>\n",
       "      <td>0.077440</td>\n",
       "      <td>0.289561</td>\n",
       "      <td>0.034456</td>\n",
       "    </tr>\n",
       "    <tr>\n",
       "      <th>1</th>\n",
       "      <td>10002</td>\n",
       "      <td>26905.0</td>\n",
       "      <td>79490</td>\n",
       "      <td>0.014448</td>\n",
       "      <td>70361</td>\n",
       "      <td>0.055699</td>\n",
       "      <td>0.047830</td>\n",
       "      <td>0.007826</td>\n",
       "    </tr>\n",
       "    <tr>\n",
       "      <th>2</th>\n",
       "      <td>10003</td>\n",
       "      <td>79088.0</td>\n",
       "      <td>56909</td>\n",
       "      <td>0.011653</td>\n",
       "      <td>53135</td>\n",
       "      <td>0.014244</td>\n",
       "      <td>0.137533</td>\n",
       "      <td>0.012289</td>\n",
       "    </tr>\n",
       "    <tr>\n",
       "      <th>3</th>\n",
       "      <td>10004</td>\n",
       "      <td>98020.0</td>\n",
       "      <td>3024</td>\n",
       "      <td>0.266825</td>\n",
       "      <td>2780</td>\n",
       "      <td>0.082016</td>\n",
       "      <td>2.843215</td>\n",
       "      <td>0.114822</td>\n",
       "    </tr>\n",
       "    <tr>\n",
       "      <th>4</th>\n",
       "      <td>10005</td>\n",
       "      <td>99633.0</td>\n",
       "      <td>7566</td>\n",
       "      <td>0.099573</td>\n",
       "      <td>6996</td>\n",
       "      <td>0.009084</td>\n",
       "      <td>1.200817</td>\n",
       "      <td>0.012228</td>\n",
       "    </tr>\n",
       "  </tbody>\n",
       "</table>\n",
       "</div>"
      ],
      "text/plain": [
       "   Zipcode  IncomePerCapita  TotalPop  NoCoverage  WithCoverage    Public  \\\n",
       "0    10001          77512.0     22767    0.037775         20809  0.077440   \n",
       "1    10002          26905.0     79490    0.014448         70361  0.055699   \n",
       "2    10003          79088.0     56909    0.011653         53135  0.014244   \n",
       "3    10004          98020.0      3024    0.266825          2780  0.082016   \n",
       "4    10005          99633.0      7566    0.099573          6996  0.009084   \n",
       "\n",
       "    Private  BothInsu  \n",
       "0  0.289561  0.034456  \n",
       "1  0.047830  0.007826  \n",
       "2  0.137533  0.012289  \n",
       "3  2.843215  0.114822  \n",
       "4  1.200817  0.012228  "
      ]
     },
     "execution_count": 12,
     "metadata": {},
     "output_type": "execute_result"
    }
   ],
   "source": [
    "data2=data2.dropna()\n",
    "data2['NoCoverage']=data2['NoCoverage'] * 100 / data2['TotalPop']\n",
    "data2['Public']=data2['Public'] * 100 / data2['TotalPop']\n",
    "data2['Private']=data2['Private'] * 100 / data2['TotalPop']\n",
    "data2['BothInsu']=data2['BothInsu'] * 100 / data2['TotalPop']\n",
    "data2.head()"
   ]
  },
  {
   "cell_type": "markdown",
   "metadata": {},
   "source": [
    "#### (d) Regress over these proportions (the ones mentioned in part b, leave out \"No Insurance Coverage\") -- What interesting results do we have here? Briefly state what you've obtained."
   ]
  },
  {
   "cell_type": "code",
   "execution_count": 13,
   "metadata": {
    "collapsed": false
   },
   "outputs": [
    {
     "name": "stdout",
     "output_type": "stream",
     "text": [
      "Intercept    30006.863251\n",
      "Public        -427.572365\n",
      "Private      36575.316938\n",
      "BothInsu      4184.027487\n",
      "dtype: float64\n"
     ]
    }
   ],
   "source": [
    "lm2 = smf.ols(formula = 'IncomePerCapita ~ Public + Private + BothInsu', data = data2).fit()\n",
    "#print('R2 = %f'%lm2.rsquared)\n",
    "print(lm2.params)"
   ]
  },
  {
   "cell_type": "markdown",
   "metadata": {},
   "source": [
    "####  For each Zipcode area, the number of people who have Private Insurance has a stronger influence than that with Public Insurance on the Imcome per capita."
   ]
  },
  {
   "cell_type": "markdown",
   "metadata": {},
   "source": [
    "#### Extra credit:\n",
    "(e) Visualize the observed income versus the predicted income, like what we did in the lab session. Does this fitted line look great or not? If you're not sure, check the correlation matrix and make a guess."
   ]
  },
  {
   "cell_type": "code",
   "execution_count": 14,
   "metadata": {
    "collapsed": false
   },
   "outputs": [
    {
     "data": {
      "text/plain": [
       "<matplotlib.text.Text at 0x11b4168d0>"
      ]
     },
     "execution_count": 14,
     "metadata": {},
     "output_type": "execute_result"
    },
    {
     "data": {
      "image/png": "[encoded data removed]",
      "text/plain": [
       "<matplotlib.figure.Figure at 0x11b400150>"
      ]
     },
     "metadata": {},
     "output_type": "display_data"
    }
   ],
   "source": [
    "y2_fit = lm2.predict(data2)   # Calculate the predicted value\n",
    "plt.figure(figsize = (8,6))\n",
    "plt.plot(y2_fit,data2.IncomePerCapita,'or', markersize = 8) # Plot the observed value, linestyle = 'or', red dots\n",
    "plt.plot(y2_fit,y2_fit,'--b', linewidth = 1)                 # Plot the predicted value, blue dashed line\n",
    "\n",
    "# Plot setting\n",
    "plt.xlabel('Prediction', fontsize = 16)\n",
    "plt.ylabel('Observation', fontsize = 16)"
   ]
  },
  {
   "cell_type": "markdown",
   "metadata": {},
   "source": [
    "##### The Prediction does not fit the Observation perfectly. "
   ]
  },
  {
   "cell_type": "code",
   "execution_count": 21,
   "metadata": {
    "collapsed": false
   },
   "outputs": [
    {
     "name": "stdout",
     "output_type": "stream",
     "text": [
      "Intercept    30006.863251\n",
      "Public        -427.572365\n",
      "Private      36575.316938\n",
      "BothInsu      4184.027487\n",
      "dtype: float64\n"
     ]
    }
   ],
   "source": [
    "print(lm2.params)"
   ]
  },
  {
   "cell_type": "markdown",
   "metadata": {},
   "source": [
    "## EX 3, Polynomial fit (40+30pt -- 4+5+3$\\times$4+5+3$\\times$3+5+30)\n",
    "\n",
    "### Try to fit y with a polynomial $$\\hat y(x,w) = \\sum\\limits_{i=1}^M w_i\\cdot x^i$$ with the given dataset 'https://serv.cusp.nyu.edu/~cq299/ADS2016/Data/H33.csv'\n",
    "\n",
    "### Tasks:\n",
    "* (a) Draw the scatter plot of x and y, guess what polynomial could be the best choice. (The name \"x1\" denotes $x^1$.)\n",
    "* (b) Create new columns in data frame to contain the information of $x^2, x^3, x^4$\n",
    "* (c) Try to fit y with polynomial of x with order 1, 2, 3, 4, respectively\n",
    "    * For each model, store your fitted parameters as well as your $R^2$\n",
    "* (d) Report the $R^2$, plot it and observe how it changes\n",
    "* (e) Create a figure with four(4) subfigures, then in each subfigure:\n",
    "    * (e.1) Draw the scatter plot\n",
    "    * (e.2) Plot the curve of true function $f(x) = 9x^2 - x + 1$\n",
    "    * (e.3) Plot your fitted curve, observe how our model fits the data as M increases\n",
    "* (f) Based on the plot, which model(s) fits the true curve best? Then provide the best coefficients $\\hat w$\n",
    "### Extra credit\n",
    "* (g) In each subfigure:\n",
    "    * (g.1) Pick a x value (at your discretion) $x_0$, then locate the y value both on your fitted curve and on our function curve ($f(x_0)$)\n",
    "    * (g.2) Mark these two points with a small diamond, then draw a dashed line connecting them, showing \"prediction error\" (You can read the lecture slides and find some inspiration at the end.)\n",
    "    * (g.3) Repeat g.1 and g.2 up to ten times (i.e. select up to ten different future points and predict their values, compare your prediction with the true value), then:\n",
    "        * Compute the average sum of squares of errors $E = \\frac{\\sum_i^n (y_i - f(x_i))^2}{n}$ ($x_i$ denotes your future points), mention it in your subfigure's title (**Be sure to use the SAME future points for ALL 4 models when you calculate prediction error**)\n",
    "        * Which model has the smallest average error $E$? Does this fitted polynomial coincides with the M you picked in part f?"
   ]
  },
  {
   "cell_type": "code",
   "execution_count": 23,
   "metadata": {
    "collapsed": false
   },
   "outputs": [
    {
     "data": {
      "text/html": [
       "<div>\n",
       "<table border=\"1\" class=\"dataframe\">\n",
       "  <thead>\n",
       "    <tr style=\"text-align: right;\">\n",
       "      <th></th>\n",
       "      <th>y</th>\n",
       "      <th>x1</th>\n",
       "    </tr>\n",
       "  </thead>\n",
       "  <tbody>\n",
       "    <tr>\n",
       "      <th>0</th>\n",
       "      <td>2.613388</td>\n",
       "      <td>-0.50</td>\n",
       "    </tr>\n",
       "    <tr>\n",
       "      <th>1</th>\n",
       "      <td>2.170351</td>\n",
       "      <td>-0.32</td>\n",
       "    </tr>\n",
       "    <tr>\n",
       "      <th>2</th>\n",
       "      <td>0.049546</td>\n",
       "      <td>-0.14</td>\n",
       "    </tr>\n",
       "    <tr>\n",
       "      <th>3</th>\n",
       "      <td>1.158258</td>\n",
       "      <td>0.04</td>\n",
       "    </tr>\n",
       "    <tr>\n",
       "      <th>4</th>\n",
       "      <td>1.397567</td>\n",
       "      <td>0.22</td>\n",
       "    </tr>\n",
       "    <tr>\n",
       "      <th>5</th>\n",
       "      <td>1.773240</td>\n",
       "      <td>0.40</td>\n",
       "    </tr>\n",
       "  </tbody>\n",
       "</table>\n",
       "</div>"
      ],
      "text/plain": [
       "          y    x1\n",
       "0  2.613388 -0.50\n",
       "1  2.170351 -0.32\n",
       "2  0.049546 -0.14\n",
       "3  1.158258  0.04\n",
       "4  1.397567  0.22\n",
       "5  1.773240  0.40"
      ]
     },
     "execution_count": 23,
     "metadata": {},
     "output_type": "execute_result"
    }
   ],
   "source": [
    "ex3=pd.read_csv( 'https://serv.cusp.nyu.edu/~cq299/ADS2016/Data/H33.csv')\n",
    "ex3"
   ]
  },
  {
   "cell_type": "markdown",
   "metadata": {},
   "source": [
    "#### (a) Draw the scatter plot of x and y, guess what polynomial could be the best choice. (The name \"x1\" denotes  x1 .)"
   ]
  },
  {
   "cell_type": "code",
   "execution_count": 24,
   "metadata": {
    "collapsed": false
   },
   "outputs": [
    {
     "data": {
      "text/plain": [
       "<matplotlib.collections.PathCollection at 0x11c68f450>"
      ]
     },
     "execution_count": 24,
     "metadata": {},
     "output_type": "execute_result"
    },
    {
     "data": {
      "image/png": "[encoded data removed]",
      "text/plain": [
       "<matplotlib.figure.Figure at 0x11c604c90>"
      ]
     },
     "metadata": {},
     "output_type": "display_data"
    }
   ],
   "source": [
    "#plt.figure(figsize = (8,6))\n",
    "plt.scatter(ex3.x1,ex3.y)"
   ]
  },
  {
   "cell_type": "markdown",
   "metadata": {},
   "source": [
    "#### (b) Create new columns in data frame to contain the information of  x2,x3,x4"
   ]
  },
  {
   "cell_type": "code",
   "execution_count": 25,
   "metadata": {
    "collapsed": false
   },
   "outputs": [
    {
     "data": {
      "text/html": [
       "<div>\n",
       "<table border=\"1\" class=\"dataframe\">\n",
       "  <thead>\n",
       "    <tr style=\"text-align: right;\">\n",
       "      <th></th>\n",
       "      <th>y</th>\n",
       "      <th>x1</th>\n",
       "      <th>x2</th>\n",
       "      <th>x3</th>\n",
       "      <th>x4</th>\n",
       "    </tr>\n",
       "  </thead>\n",
       "  <tbody>\n",
       "    <tr>\n",
       "      <th>0</th>\n",
       "      <td>2.613388</td>\n",
       "      <td>-0.50</td>\n",
       "      <td>0.2500</td>\n",
       "      <td>-0.125000</td>\n",
       "      <td>0.062500</td>\n",
       "    </tr>\n",
       "    <tr>\n",
       "      <th>1</th>\n",
       "      <td>2.170351</td>\n",
       "      <td>-0.32</td>\n",
       "      <td>0.1024</td>\n",
       "      <td>-0.032768</td>\n",
       "      <td>0.010486</td>\n",
       "    </tr>\n",
       "    <tr>\n",
       "      <th>2</th>\n",
       "      <td>0.049546</td>\n",
       "      <td>-0.14</td>\n",
       "      <td>0.0196</td>\n",
       "      <td>-0.002744</td>\n",
       "      <td>0.000384</td>\n",
       "    </tr>\n",
       "    <tr>\n",
       "      <th>3</th>\n",
       "      <td>1.158258</td>\n",
       "      <td>0.04</td>\n",
       "      <td>0.0016</td>\n",
       "      <td>0.000064</td>\n",
       "      <td>0.000003</td>\n",
       "    </tr>\n",
       "    <tr>\n",
       "      <th>4</th>\n",
       "      <td>1.397567</td>\n",
       "      <td>0.22</td>\n",
       "      <td>0.0484</td>\n",
       "      <td>0.010648</td>\n",
       "      <td>0.002343</td>\n",
       "    </tr>\n",
       "    <tr>\n",
       "      <th>5</th>\n",
       "      <td>1.773240</td>\n",
       "      <td>0.40</td>\n",
       "      <td>0.1600</td>\n",
       "      <td>0.064000</td>\n",
       "      <td>0.025600</td>\n",
       "    </tr>\n",
       "  </tbody>\n",
       "</table>\n",
       "</div>"
      ],
      "text/plain": [
       "          y    x1      x2        x3        x4\n",
       "0  2.613388 -0.50  0.2500 -0.125000  0.062500\n",
       "1  2.170351 -0.32  0.1024 -0.032768  0.010486\n",
       "2  0.049546 -0.14  0.0196 -0.002744  0.000384\n",
       "3  1.158258  0.04  0.0016  0.000064  0.000003\n",
       "4  1.397567  0.22  0.0484  0.010648  0.002343\n",
       "5  1.773240  0.40  0.1600  0.064000  0.025600"
      ]
     },
     "execution_count": 25,
     "metadata": {},
     "output_type": "execute_result"
    }
   ],
   "source": [
    "ex3.loc[:,'x2']=ex3.x1**2\n",
    "ex3.loc[:,'x3']=ex3.x1**3\n",
    "ex3.loc[:,'x4']=ex3.x1**4\n",
    "ex3"
   ]
  },
  {
   "cell_type": "markdown",
   "metadata": {},
   "source": [
    "#### (c) Try to fit y with polynomial of x with order 1, 2, 3, 4, respectively\n",
    "For each model, store your fitted parameters as well as your  R2"
   ]
  },
  {
   "cell_type": "code",
   "execution_count": 26,
   "metadata": {
    "collapsed": false
   },
   "outputs": [
    {
     "data": {
      "text/plain": [
       "[0.10479617162381571,\n",
       " 0.65125881311682743,\n",
       " 0.66574886312199211,\n",
       " 0.80198630229302026]"
      ]
     },
     "execution_count": 26,
     "metadata": {},
     "output_type": "execute_result"
    }
   ],
   "source": [
    "def MultiReg(data, degree):\n",
    "    # First create a string for controlling the number of x_i\n",
    "    string = ''\n",
    "    for i in range(degree):\n",
    "        string += str(i+1)  # For example, if degree == 3, then this string would be '123' at the end\n",
    "    formula = 'y ~ x' + ' + x'.join(string) # join function will convert '123' to '1 + x2 + x3'\n",
    "\n",
    "    # Perform regression and return the results\n",
    "    lm = smf.ols(formula = formula, data = data).fit()\n",
    "    return lm.rsquared, lm.params\n",
    "\n",
    "\n",
    "# Run the function and store the results separately\n",
    "R3 = []; Params = []\n",
    "for M in range(1,5):\n",
    "    a,b = MultiReg(ex3,M)  # For each M, run the function\n",
    "    R3.append(a)\n",
    "    Params.append(b)\n",
    "R3\n"
   ]
  },
  {
   "cell_type": "markdown",
   "metadata": {},
   "source": [
    "#### (d) Report the  R2 , plot it and observe how it changes"
   ]
  },
  {
   "cell_type": "code",
   "execution_count": 27,
   "metadata": {
    "collapsed": false
   },
   "outputs": [
    {
     "name": "stdout",
     "output_type": "stream",
     "text": [
      "(R1)^2= 0.104796171624\n",
      "(R2)^2= 0.651258813117\n",
      "(R3)^2= 0.665748863122\n",
      "(R4)^2= 0.801986302293\n"
     ]
    }
   ],
   "source": [
    "for i in range (0,4):\n",
    "    print '(R%s)^2= %s'%(i+1, R3[i])"
   ]
  },
  {
   "cell_type": "code",
   "execution_count": 28,
   "metadata": {
    "collapsed": false
   },
   "outputs": [
    {
     "data": {
      "image/png": "[encoded data removed]",
      "text/plain": [
       "<matplotlib.figure.Figure at 0x11c4b9c50>"
      ]
     },
     "metadata": {},
     "output_type": "display_data"
    }
   ],
   "source": [
    "#Q3 See how $R^2$ increases as the degree of polynomial increases \n",
    "plt.plot(range(0,4),R3,'ro--', markersize = 8)\n",
    "plt.xlabel('Degree M of polynomial', fontsize = 14)\n",
    "plt.ylabel('$R^2$ of the model', fontsize = 16)\n",
    "plt.show()"
   ]
  },
  {
   "cell_type": "markdown",
   "metadata": {},
   "source": [
    "#### (e) Create a figure with four(4) subfigures, then in each subfigure:\n",
    "(e.1) Draw the scatter plot\n",
    "\n",
    "(e.2) Plot the curve of true function  f(x)=9x2−x+1\n",
    "\n",
    "(e.3) Plot your fitted curve, observe how our model fits the data as M increases"
   ]
  },
  {
   "cell_type": "code",
   "execution_count": 29,
   "metadata": {
    "collapsed": false
   },
   "outputs": [
    {
     "data": {
      "image/png": "[encoded data removed]",
      "text/plain": [
       "<matplotlib.figure.Figure at 0x11cc83490>"
      ]
     },
     "metadata": {},
     "output_type": "display_data"
    }
   ],
   "source": [
    "plt.figure(figsize = (10,8))\n",
    "\n",
    "f = lambda x: 9*x**2 - x + 1\n",
    "\n",
    "for M in range(1,5):\n",
    "    plt.subplot(330+M)   # Plot subfigure, M controls the location\n",
    "    x_fit = np.linspace(-0.5,0.6,100)  # For smoothing the fitted curve\n",
    "    y_fit = pd.DataFrame(np.matrix([x_fit**k for k in range(M+1)]).T,  # Generate our fitted curve\n",
    "                         columns = Params[M-1].index).mul(Params[M-1], 1).sum(1)  # 1 means computation runs row-wise\n",
    "    # Pay attention how we obtain the results by controlling the axes on which the operations are performed\n",
    "#     y_future = 0\n",
    "#     x_future = 0.55\n",
    "#     for i in range(len(Params[M-1])):\n",
    "#         y_future += Params[M-1][i] * (x_future**i)\n",
    "    plt.plot(ex3.x1, ex3.y, 'ro', markersize = 8)    # Red dots, the observations\n",
    "    plt.plot(x_fit, f(x_fit), 'g-', lw = 2)              # Green curve, the actual function f defined before\n",
    "    plt.plot(x_fit, y_fit, 'b--', lw = 2)                # Blue dashed line, our fitted curve\n",
    "#     plt.plot(x_future, y_future, 'b*', markersize = 18)        # Blue star, fitted value\n",
    "#     plt.plot(x_future, f(x_future), 'g*', markersize = 18)     # Green star, true value\n",
    "#     plt.plot([x_future,x_future], [y_future, f(x_future)])\n"
   ]
  },
  {
   "cell_type": "markdown",
   "metadata": {},
   "source": [
    "#### When M=2 which means  "
   ]
  },
  {
   "cell_type": "markdown",
   "metadata": {},
   "source": [
    "#### (f) Based on the plot, which model(s) fits the true curve best? Then provide the best coefficients  ŵ"
   ]
  },
  {
   "cell_type": "markdown",
   "metadata": {},
   "source": [
    "#### The 2-degree polynomial model fits the curve best"
   ]
  },
  {
   "cell_type": "code",
   "execution_count": 30,
   "metadata": {
    "collapsed": false
   },
   "outputs": [
    {
     "name": "stdout",
     "output_type": "stream",
     "text": [
      "w: \n"
     ]
    },
    {
     "data": {
      "text/plain": [
       "Intercept    0.797871\n",
       "x1          -0.112869\n",
       "x2           7.459218\n",
       "dtype: float64"
      ]
     },
     "execution_count": 30,
     "metadata": {},
     "output_type": "execute_result"
    }
   ],
   "source": [
    "print 'w: '\n",
    "Params[1]"
   ]
  },
  {
   "cell_type": "markdown",
   "metadata": {},
   "source": [
    "#### Extra credit"
   ]
  },
  {
   "cell_type": "markdown",
   "metadata": {},
   "source": [
    "##### (1)Pick a x value (at your discretion)  x0 , then locate the y value both on your fitted curve and on our function curve ( f(x0))"
   ]
  },
  {
   "cell_type": "markdown",
   "metadata": {},
   "source": [
    "##### My X0=0.55"
   ]
  },
  {
   "cell_type": "code",
   "execution_count": 31,
   "metadata": {
    "collapsed": false
   },
   "outputs": [
    {
     "data": {
      "image/png": "[encoded data removed]",
      "text/plain": [
       "<matplotlib.figure.Figure at 0x11d364450>"
      ]
     },
     "metadata": {},
     "output_type": "display_data"
    }
   ],
   "source": [
    "plt.figure(figsize = (10,8))\n",
    "\n",
    "f = lambda x: 9*x**2 - x + 1\n",
    "\n",
    "for M in range(1,5):\n",
    "    plt.subplot(330+M)   # Plot subfigure, M controls the location\n",
    "    x_fit = np.linspace(-0.5,0.6,100)  # For smoothing the fitted curve\n",
    "    y_fit = pd.DataFrame(np.matrix([x_fit**k for k in range(M+1)]).T,  # Generate our fitted curve\n",
    "                         columns = Params[M-1].index).mul(Params[M-1], 1).sum(1)  # 1 means computation runs row-wise\n",
    "    #Pay attention how we obtain the results by controlling the axes on which the operations are performed\n",
    "    y_future = 0\n",
    "    x_future = 0.55\n",
    "    for i in range(len(Params[M-1])):\n",
    "        y_future += Params[M-1][i] * (x_future**i)\n",
    "    plt.plot(ex3.x1, ex3.y, 'ro', markersize = 8)    # Red dots, the observations\n",
    "    plt.plot(x_fit, f(x_fit), 'g-', lw = 2)              # Green curve, the actual function f defined before\n",
    "    plt.plot(x_fit, y_fit, 'b--', lw = 2)                # Blue dashed line, our fitted curve\n",
    "    plt.plot(x_future, y_future, 'b*', markersize = 18)        # Blue star, fitted value\n",
    "    plt.plot(x_future, f(x_future), 'g*', markersize = 18)     # Green star, true value\n",
    "   # plt.plot([x_future,x_future], [y_future, f(x_future)])\n"
   ]
  },
  {
   "cell_type": "markdown",
   "metadata": {},
   "source": [
    "##### (g.2) Mark these two points with a small diamond, then draw a dashed line connecting them, showing \"prediction error\" (You can read the lecture slides and find some inspiration at the end.)"
   ]
  },
  {
   "cell_type": "code",
   "execution_count": 243,
   "metadata": {
    "collapsed": false
   },
   "outputs": [
    {
     "data": {
      "image/png": "[encoded data removed]",
      "text/plain": [
       "<matplotlib.figure.Figure at 0x1211b8ad0>"
      ]
     },
     "metadata": {},
     "output_type": "display_data"
    }
   ],
   "source": [
    "plt.figure(figsize = (10,8))\n",
    "\n",
    "f = lambda x: 9*x**2 - x + 1\n",
    "\n",
    "for M in range(1,5):\n",
    "    plt.subplot(330+M)   # Plot subfigure, M controls the location\n",
    "    x_fit = np.linspace(-0.5,0.6,100)  # For smoothing the fitted curve\n",
    "    y_fit = pd.DataFrame(np.matrix([x_fit**k for k in range(M+1)]).T,  # Generate our fitted curve\n",
    "                         columns = Params[M-1].index).mul(Params[M-1], 1).sum(1)  # 1 means computation runs row-wise\n",
    "    #Pay attention how we obtain the results by controlling the axes on which the operations are performed\n",
    "    y_future = 0\n",
    "    x_future = 0.55\n",
    "    for i in range(len(Params[M-1])):\n",
    "        y_future += Params[M-1][i] * (x_future**i)\n",
    "    plt.plot(ex3.x1, ex3.y, 'ro', markersize = 8)    # Red dots, the observations\n",
    "    plt.plot(x_fit, f(x_fit), 'g-', lw = 2)              # Green curve, the actual function f defined before\n",
    "    plt.plot(x_fit, y_fit, 'b--', lw = 2)                # Blue dashed line, our fitted curve\n",
    "    plt.plot(x_future, y_future, 'bD', markersize = 8)        # Blue star, fitted value\n",
    "    plt.plot(x_future, f(x_future), 'gD', markersize = 8)     # Green star, true value\n",
    "    plt.plot([x_future,x_future], [y_future, f(x_future)],'y--')"
   ]
  },
  {
   "cell_type": "markdown",
   "metadata": {},
   "source": [
    "#### (g.3) Repeat g.1 and g.2 up to ten times (i.e. select up to ten different future points and predict their values, compare your \n",
    "        * Compute the average sum of squares of errors $E = \\frac{\\sum_i^n (y_i - f(x_i))^2}{n}$ ($x_i$ denotes your future points), mention it in your subfigure's title (**Be sure to use the SAME future points for ALL 4 models when you calculate prediction error**)\n",
    "        * Which model has the smallest average error $E$? Does this fitted polynomial coincides with the M you picked in part f?"
   ]
  },
  {
   "cell_type": "code",
   "execution_count": 54,
   "metadata": {
    "collapsed": false
   },
   "outputs": [
    {
     "name": "stdout",
     "output_type": "stream",
     "text": [
      "err1=17.616193, err2=0.370841, err3=3.098120, err3=175.798397\n"
     ]
    },
    {
     "data": {
      "image/png": "[encoded data removed]",
      "text/plain": [
       "<matplotlib.figure.Figure at 0x11d66af10>"
      ]
     },
     "metadata": {},
     "output_type": "display_data"
    }
   ],
   "source": [
    "\n",
    "plt.figure(figsize = (10,8))\n",
    "\n",
    "f = lambda x: 9*x**2 - x + 1\n",
    "err=[]\n",
    "for M in range(1,5):\n",
    "    plt.subplot(330+M)   # Plot subfigure, M controls the location\n",
    "    x_fit = np.linspace(-0.5,0.6,100)  # For smoothing the fitted curve\n",
    "    y_fit = pd.DataFrame(np.matrix([x_fit**k for k in range(M+1)]).T,  # Generate our fitted curve\n",
    "                         columns = Params[M-1].index).mul(Params[M-1], 1).sum(1)  # 1 means computation runs row-wise\n",
    "    #Pay attention how we obtain the results by controlling the axes on which the operations are performed\n",
    "    for Z in range (0,10):\n",
    "        y_future = 0\n",
    "        x_future = 0.65-0.1*Z\n",
    "        for i in range(len(Params[M-1])):\n",
    "            y_future += Params[M-1][i] * (x_future**i)\n",
    "#     plt.plot(ex3.x1, ex3.y, 'ro', markersize = 8)    # Red dots, the observations\n",
    "        plt.plot(x_fit, f(x_fit), 'g-', lw = 2)              # Green curve, the actual function f defined before\n",
    "        plt.plot(x_fit, y_fit, 'b--', lw = 2)                # Blue dashed line, our fitted curve\n",
    "        plt.plot(x_future, y_future, 'b*', markersize = 18)        # Blue star, fitted value\n",
    "        plt.plot(x_future, f(x_future), 'g*', markersize = 18)     # Green star, true value\n",
    "        dist= (y_future-f(x_future))**2\n",
    "        err.append(dist)\n",
    "   # plt.plot([x_future,x_future], [y_future, f(x_future)])\n",
    "#print err\n",
    "err1=sum(err[0:9])\n",
    "err2=sum(err[10:19])\n",
    "err3=sum(err[20:29])\n",
    "err4=sum(err[30:39])\n",
    "print 'err1=%f, err2=%f, err3=%f, err3=%f' %(err1,err2,err3,err4)"
   ]
  },
  {
   "cell_type": "markdown",
   "metadata": {},
   "source": [
    "#### Then second model with x**2 has the smallest error, it matches the one picked in part f."
   ]
  },
  {
   "cell_type": "code",
   "execution_count": null,
   "metadata": {
    "collapsed": true
   },
   "outputs": [],
   "source": []
  }
 ],
 "metadata": {
  "anaconda-cloud": {},
  "kernelspec": {
   "display_name": "Python [Root]",
   "language": "python",
   "name": "Python [Root]"
  },
  "language_info": {
   "codemirror_mode": {
    "name": "ipython",
    "version": 2
   },
   "file_extension": ".py",
   "mimetype": "text/x-python",
   "name": "python",
   "nbconvert_exporter": "python",
   "pygments_lexer": "ipython2",
   "version": "2.7.12"
  }
 },
 "nbformat": 4,
 "nbformat_minor": 0
}
